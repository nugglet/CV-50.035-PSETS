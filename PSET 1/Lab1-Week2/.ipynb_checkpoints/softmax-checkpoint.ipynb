{
 "cells": [
  {
   "cell_type": "markdown",
   "metadata": {},
   "source": [
    "# Softmax exercise\n",
    "Victoria Yong 1004455\n",
    "\n",
    "*Complete and hand in this completed worksheet (including its outputs and any supporting code outside of the worksheet) with your assignment submission.*\n",
    "\n",
    "In this exercise, you will:\n",
    "\n",
    "- implement a fully-vectorized **loss function** for the Softmax classifier\n",
    "- implement the fully-vectorized expression for its **analytic gradient**\n",
    "- **check your implementation** with numerical gradient\n",
    "- use a validation set to **tune the learning rate and regularization** strength\n",
    "- **optimize** the loss function with **SGD**\n",
    "- **visualize** the final learned weights\n"
   ]
  },
  {
   "cell_type": "markdown",
   "metadata": {},
   "source": [
    "**Acknowledgement: This exercise is adapted from [Stanford CS231n](http://cs231n.stanford.edu/).**"
   ]
  },
  {
   "cell_type": "code",
   "execution_count": 1,
   "metadata": {},
   "outputs": [],
   "source": [
    "import random\n",
    "import numpy as np\n",
    "from data_utils import load_CIFAR10\n",
    "import matplotlib.pyplot as plt\n",
    "\n",
    "%matplotlib inline\n",
    "plt.rcParams['figure.figsize'] = (10.0, 8.0) # set default size of plots\n",
    "plt.rcParams['image.interpolation'] = 'nearest'\n",
    "plt.rcParams['image.cmap'] = 'gray'\n",
    "\n",
    "# for auto-reloading extenrnal modules\n",
    "# see http://stackoverflow.com/questions/1907993/autoreload-of-modules-in-ipython\n",
    "%load_ext autoreload\n",
    "%autoreload 2"
   ]
  },
  {
   "cell_type": "code",
   "execution_count": 2,
   "metadata": {},
   "outputs": [],
   "source": [
    "def rel_error(out, correct_out):\n",
    "    return np.sum(abs(out - correct_out) / (abs(out) + abs(correct_out)))"
   ]
  },
  {
   "cell_type": "code",
   "execution_count": 3,
   "metadata": {
    "tags": []
   },
   "outputs": [
    {
     "name": "stdout",
     "output_type": "stream",
     "text": [
      "Train data shape:  (49000, 3073)\n",
      "Train labels shape:  (49000,)\n",
      "Validation data shape:  (1000, 3073)\n",
      "Validation labels shape:  (1000,)\n",
      "Test data shape:  (1000, 3073)\n",
      "Test labels shape:  (1000,)\n",
      "dev data shape:  (500, 3073)\n",
      "dev labels shape:  (500,)\n"
     ]
    }
   ],
   "source": [
    "def get_CIFAR10_data(num_training=49000, num_validation=1000, num_test=1000, num_dev=500):\n",
    "    \"\"\"\n",
    "    Load the CIFAR-10 dataset from disk and perform preprocessing to prepare\n",
    "    it for the linear classifier. These are the same steps as we used for the\n",
    "    Softmax, but condensed to a single function.  \n",
    "    \"\"\"\n",
    "    # Load the raw CIFAR-10 data\n",
    "    cifar10_dir = 'datasets/cifar-10-batches-py'\n",
    "    X_train, y_train, X_test, y_test = load_CIFAR10(cifar10_dir)\n",
    "\n",
    "    # subsample the data\n",
    "    mask = range(num_training, num_training + num_validation)\n",
    "    X_val = X_train[mask]\n",
    "    y_val = y_train[mask]\n",
    "    mask = range(num_training)\n",
    "    X_train = X_train[mask]\n",
    "    y_train = y_train[mask]\n",
    "    mask = range(num_test)\n",
    "    X_test = X_test[mask]\n",
    "    y_test = y_test[mask]\n",
    "    \n",
    "    # # We will also make a development set, which is a small subset of\n",
    "    # the training set.\n",
    "    mask = np.random.choice(num_training, num_dev, replace=False)\n",
    "    X_dev = X_train[mask]\n",
    "    y_dev = y_train[mask]\n",
    "\n",
    "    # Preprocessing: reshape the image data into rows\n",
    "    X_train = np.reshape(X_train, (X_train.shape[0], -1))\n",
    "    X_val = np.reshape(X_val, (X_val.shape[0], -1))\n",
    "    X_test = np.reshape(X_test, (X_test.shape[0], -1))\n",
    "    X_dev = np.reshape(X_dev, (X_dev.shape[0], -1))\n",
    "\n",
    "    # Normalize the data: subtract the mean image\n",
    "    mean_image = np.mean(X_train, axis = 0)\n",
    "    X_train -= mean_image\n",
    "    X_val -= mean_image\n",
    "    X_test -= mean_image\n",
    "    X_dev -= mean_image\n",
    "\n",
    "    # add bias dimension and transform into columns\n",
    "    X_train = np.hstack([X_train, np.ones((X_train.shape[0], 1))])\n",
    "    X_val = np.hstack([X_val, np.ones((X_val.shape[0], 1))])\n",
    "    X_test = np.hstack([X_test, np.ones((X_test.shape[0], 1))])\n",
    "    X_dev = np.hstack([X_dev, np.ones((X_dev.shape[0], 1))])\n",
    "\n",
    "    return X_train, y_train, X_val, y_val, X_test, y_test, X_dev, y_dev\n",
    "\n",
    "\n",
    "# Invoke the above function to get our data.\n",
    "X_train, y_train, X_val, y_val, X_test, y_test, X_dev, y_dev = get_CIFAR10_data()\n",
    "print('Train data shape: ', X_train.shape)\n",
    "print('Train labels shape: ', y_train.shape)\n",
    "print('Validation data shape: ', X_val.shape)\n",
    "print('Validation labels shape: ', y_val.shape)\n",
    "print('Test data shape: ', X_test.shape)\n",
    "print('Test labels shape: ', y_test.shape)\n",
    "print('dev data shape: ', X_dev.shape)\n",
    "print('dev labels shape: ', y_dev.shape)"
   ]
  },
  {
   "cell_type": "code",
   "execution_count": 4,
   "metadata": {},
   "outputs": [],
   "source": [
    "# Create one-hot vectors for label\n",
    "num_class = 10\n",
    "y_train_oh = np.zeros((y_train.shape[0], 10))\n",
    "y_train_oh[np.arange(y_train.shape[0]), y_train] = 1\n",
    "y_val_oh = np.zeros((y_val.shape[0], 10))\n",
    "y_val_oh[np.arange(y_val.shape[0]), y_val] = 1\n",
    "y_test_oh = np.zeros((y_test.shape[0], 10))\n",
    "y_test_oh[np.arange(y_test.shape[0]), y_test] = 1\n",
    "\n",
    "y_dev_oh = np.zeros((y_dev.shape[0], 10))\n",
    "y_dev_oh[np.arange(y_dev.shape[0]), y_dev] = 1"
   ]
  },
  {
   "cell_type": "markdown",
   "metadata": {},
   "source": [
    "# Regression as classifier\n",
    "The most simple and straightforward approach to learn a classifier is to map the input data (raw image values) to class label (one-hot vector). The loss function is defined as following: \n",
    "$$\\mathcal{L}=\\frac{1}{n}\\|\\mathbf{X}\\mathbf{W}-\\mathbf{y}\\|_F^2\\qquad\\qquad(1)$$\n",
    "Where:\n",
    "* $\\mathbf{W}\\in \\mathbb{R}^{(d+1)\\times C}$: Classifier weight\n",
    "* $\\mathbf{X}\\in \\mathbb{R}^{n\\times (d+1)}$: Dataset\n",
    "* $\\mathbf{y}\\in \\mathbb{R}^{n\\times C}$: Class label (one-hot vector)"
   ]
  },
  {
   "cell_type": "markdown",
   "metadata": {},
   "source": [
    "# Optimization\n",
    "Given the loss function (1), the next problem is how to solve the weight $\\mathbf{W}$. We now discuss 2 approaches: \n",
    " * Random search\n",
    " * Closed-form solution\n",
    "\n",
    "## Random search"
   ]
  },
  {
   "cell_type": "code",
   "execution_count": 5,
   "metadata": {
    "tags": []
   },
   "outputs": [
    {
     "name": "stdout",
     "output_type": "stream",
     "text": [
      "in attempt 0 the loss was 35.486501, best 35.486501\n",
      "in attempt 1 the loss was 33.961882, best 33.961882\n",
      "in attempt 2 the loss was 32.852503, best 32.852503\n",
      "in attempt 3 the loss was 31.354537, best 31.354537\n",
      "in attempt 4 the loss was 32.947541, best 31.354537\n",
      "in attempt 5 the loss was 33.607856, best 31.354537\n",
      "in attempt 6 the loss was 37.786107, best 31.354537\n",
      "in attempt 7 the loss was 35.832182, best 31.354537\n",
      "in attempt 8 the loss was 32.177872, best 31.354537\n",
      "in attempt 9 the loss was 34.115906, best 31.354537\n",
      "in attempt 10 the loss was 32.274524, best 31.354537\n",
      "in attempt 11 the loss was 33.060083, best 31.354537\n",
      "in attempt 12 the loss was 32.197298, best 31.354537\n",
      "in attempt 13 the loss was 32.065728, best 31.354537\n",
      "in attempt 14 the loss was 31.279332, best 31.279332\n",
      "in attempt 15 the loss was 37.748851, best 31.279332\n",
      "in attempt 16 the loss was 34.616167, best 31.279332\n",
      "in attempt 17 the loss was 31.946376, best 31.279332\n",
      "in attempt 18 the loss was 32.191993, best 31.279332\n",
      "in attempt 19 the loss was 32.946634, best 31.279332\n",
      "in attempt 20 the loss was 33.111880, best 31.279332\n",
      "in attempt 21 the loss was 30.214025, best 30.214025\n",
      "in attempt 22 the loss was 34.176642, best 30.214025\n",
      "in attempt 23 the loss was 31.774387, best 30.214025\n",
      "in attempt 24 the loss was 32.597876, best 30.214025\n",
      "in attempt 25 the loss was 33.449885, best 30.214025\n",
      "in attempt 26 the loss was 31.508913, best 30.214025\n",
      "in attempt 27 the loss was 34.069094, best 30.214025\n",
      "in attempt 28 the loss was 33.633670, best 30.214025\n",
      "in attempt 29 the loss was 32.122888, best 30.214025\n",
      "in attempt 30 the loss was 32.487334, best 30.214025\n",
      "in attempt 31 the loss was 32.914283, best 30.214025\n",
      "in attempt 32 the loss was 33.010027, best 30.214025\n",
      "in attempt 33 the loss was 31.990188, best 30.214025\n",
      "in attempt 34 the loss was 32.332119, best 30.214025\n",
      "in attempt 35 the loss was 32.729619, best 30.214025\n",
      "in attempt 36 the loss was 31.570237, best 30.214025\n",
      "in attempt 37 the loss was 32.972632, best 30.214025\n",
      "in attempt 38 the loss was 32.378198, best 30.214025\n",
      "in attempt 39 the loss was 33.476583, best 30.214025\n",
      "in attempt 40 the loss was 33.537015, best 30.214025\n",
      "in attempt 41 the loss was 35.383412, best 30.214025\n",
      "in attempt 42 the loss was 33.633488, best 30.214025\n",
      "in attempt 43 the loss was 33.333648, best 30.214025\n",
      "in attempt 44 the loss was 33.091088, best 30.214025\n",
      "in attempt 45 the loss was 33.095650, best 30.214025\n",
      "in attempt 46 the loss was 38.157371, best 30.214025\n",
      "in attempt 47 the loss was 33.595269, best 30.214025\n",
      "in attempt 48 the loss was 33.555879, best 30.214025\n",
      "in attempt 49 the loss was 31.295447, best 30.214025\n",
      "in attempt 50 the loss was 30.241365, best 30.214025\n",
      "in attempt 51 the loss was 33.252347, best 30.214025\n",
      "in attempt 52 the loss was 33.919567, best 30.214025\n",
      "in attempt 53 the loss was 33.501416, best 30.214025\n",
      "in attempt 54 the loss was 32.578935, best 30.214025\n",
      "in attempt 55 the loss was 33.043425, best 30.214025\n",
      "in attempt 56 the loss was 35.813861, best 30.214025\n",
      "in attempt 57 the loss was 32.631104, best 30.214025\n",
      "in attempt 58 the loss was 35.399869, best 30.214025\n",
      "in attempt 59 the loss was 31.668588, best 30.214025\n",
      "in attempt 60 the loss was 32.616556, best 30.214025\n",
      "in attempt 61 the loss was 32.843445, best 30.214025\n",
      "in attempt 62 the loss was 32.772607, best 30.214025\n",
      "in attempt 63 the loss was 34.919983, best 30.214025\n",
      "in attempt 64 the loss was 32.395300, best 30.214025\n",
      "in attempt 65 the loss was 31.433841, best 30.214025\n",
      "in attempt 66 the loss was 33.077497, best 30.214025\n",
      "in attempt 67 the loss was 34.562381, best 30.214025\n",
      "in attempt 68 the loss was 31.202645, best 30.214025\n",
      "in attempt 69 the loss was 36.252836, best 30.214025\n",
      "in attempt 70 the loss was 32.301694, best 30.214025\n",
      "in attempt 71 the loss was 33.926647, best 30.214025\n",
      "in attempt 72 the loss was 34.477673, best 30.214025\n",
      "in attempt 73 the loss was 37.028862, best 30.214025\n",
      "in attempt 74 the loss was 33.606983, best 30.214025\n",
      "in attempt 75 the loss was 31.034004, best 30.214025\n",
      "in attempt 76 the loss was 34.774528, best 30.214025\n",
      "in attempt 77 the loss was 32.366897, best 30.214025\n",
      "in attempt 78 the loss was 34.651580, best 30.214025\n",
      "in attempt 79 the loss was 35.810758, best 30.214025\n",
      "in attempt 80 the loss was 33.319067, best 30.214025\n",
      "in attempt 81 the loss was 35.864776, best 30.214025\n",
      "in attempt 82 the loss was 33.920378, best 30.214025\n",
      "in attempt 83 the loss was 32.017019, best 30.214025\n",
      "in attempt 84 the loss was 32.004215, best 30.214025\n",
      "in attempt 85 the loss was 33.485775, best 30.214025\n",
      "in attempt 86 the loss was 32.944720, best 30.214025\n",
      "in attempt 87 the loss was 36.734533, best 30.214025\n",
      "in attempt 88 the loss was 32.228444, best 30.214025\n",
      "in attempt 89 the loss was 32.289181, best 30.214025\n",
      "in attempt 90 the loss was 33.453002, best 30.214025\n",
      "in attempt 91 the loss was 29.915321, best 29.915321\n",
      "in attempt 92 the loss was 33.598167, best 29.915321\n",
      "in attempt 93 the loss was 36.078729, best 29.915321\n",
      "in attempt 94 the loss was 34.160884, best 29.915321\n",
      "in attempt 95 the loss was 35.219119, best 29.915321\n",
      "in attempt 96 the loss was 33.781437, best 29.915321\n",
      "in attempt 97 the loss was 34.324366, best 29.915321\n",
      "in attempt 98 the loss was 33.737930, best 29.915321\n",
      "in attempt 99 the loss was 34.978910, best 29.915321\n"
     ]
    }
   ],
   "source": [
    "bestloss = float('inf')\n",
    "for num in range(100):\n",
    "    W = np.random.randn(3073, 10) * 0.0001\n",
    "    loss = np.linalg.norm(X_dev.dot(W) - y_dev_oh)\n",
    "    if (loss < bestloss):\n",
    "        bestloss = loss\n",
    "        bestW = W\n",
    "    print('in attempt %d the loss was %f, best %f' % (num, loss, bestloss))"
   ]
  },
  {
   "cell_type": "code",
   "execution_count": 6,
   "metadata": {
    "tags": []
   },
   "outputs": [
    {
     "name": "stdout",
     "output_type": "stream",
     "text": [
      "Accuracy on train set:  8.799999999999999\n",
      "Accuracy on test set:  10.9\n"
     ]
    }
   ],
   "source": [
    "# How bestW perform:\n",
    "print('Accuracy on train set: ', np.sum(np.argmin(np.abs(1 - X_dev.dot(W)), axis=1) == y_dev).astype(np.float32)/y_dev.shape[0]*100)\n",
    "print('Accuracy on test set: ', np.sum(np.argmin(np.abs(1 - X_test.dot(W)), axis=1) == y_test).astype(np.float32)/y_test.shape[0]*100)"
   ]
  },
  {
   "cell_type": "markdown",
   "metadata": {},
   "source": [
    "You can clearly see that the performance is very low, almost at the random level."
   ]
  },
  {
   "cell_type": "markdown",
   "metadata": {},
   "source": [
    "## Closed-form solution\n",
    "The closed-form solution is achieved by:\n",
    "$$\\frac{\\partial\\mathcal{L}}{\\partial \\mathbf{W}}=\\frac{2}{n}\\mathbf{X}^T(\\mathbf{X}\\mathbf{W}-\\mathbf{y})=0$$\n",
    "\n",
    "$$\\Leftrightarrow\\mathbf{W}^\\ast=(\\mathbf{X}^T\\mathbf{X})^{-1}\\mathbf{X}^T\\mathbf{y}$$"
   ]
  },
  {
   "cell_type": "code",
   "execution_count": 7,
   "metadata": {},
   "outputs": [],
   "source": [
    "################################################################################\n",
    "# TODO:                                                                        #\n",
    "# Implement the closed-form solution of the weight W.                          #\n",
    "################################################################################\n",
    "W = np.linalg.pinv(X_train.T@X_train) @ (X_train.T@y_train_oh)\n",
    "################################################################################\n",
    "#                              END OF YOUR CODE                                #\n",
    "################################################################################"
   ]
  },
  {
   "cell_type": "code",
   "execution_count": 8,
   "metadata": {
    "tags": []
   },
   "outputs": [
    {
     "name": "stdout",
     "output_type": "stream",
     "text": [
      "Train set accuracy:  51.163265306122454\n",
      "Test set accuracy:  36.199999999999996\n"
     ]
    }
   ],
   "source": [
    "# Check accuracy:\n",
    "print('Train set accuracy: ', np.sum(np.argmin(np.abs(1 - X_train.dot(W)), axis=1) == y_train).astype(np.float32)/y_train.shape[0]*100)\n",
    "print('Test set accuracy: ', np.sum(np.argmin(np.abs(1 - X_test.dot(W)), axis=1) == y_test).astype(np.float32)/y_test.shape[0]*100)"
   ]
  },
  {
   "cell_type": "markdown",
   "metadata": {},
   "source": [
    "Now, you can see that the performance is much better."
   ]
  },
  {
   "cell_type": "markdown",
   "metadata": {},
   "source": [
    "## Regularization\n",
    "A simple way to improve performance is to include the L2-regularization penalty.\n",
    "$$\\mathcal{L}=\\frac{1}{n}\\|\\mathbf{X}\\mathbf{W}-\\mathbf{y}\\|_F^2 +\\lambda \\|\\mathbf{W}\\|_F^2 \\qquad\\qquad(2)$$\n",
    "The closed-form solution now is: \n",
    "$$\\Leftrightarrow\\mathbf{W}^\\ast=(\\mathbf{X}^T\\mathbf{X}+\\lambda n\\mathbf{I})^{-1}\\mathbf{X}^T\\mathbf{y}$$"
   ]
  },
  {
   "cell_type": "code",
   "execution_count": 9,
   "metadata": {},
   "outputs": [],
   "source": [
    "# try several values of lambda to see how it helps:\n",
    "lambdas = [0.01, 0.1, 1, 10, 100, 1000, 10000, 100000]\n",
    "train_acc = np.zeros((len(lambdas)))\n",
    "test_acc = np.zeros((len(lambdas)))\n",
    "for i in range(len(lambdas)):\n",
    "    l = lambdas[i]\n",
    "    n,d = X_train.shape[0], X_train.shape[1]\n",
    "    ################################################################################\n",
    "    # TODO:                                                                        #\n",
    "    # Implement the closed-form solution of the weight W with regularization.      #\n",
    "    ################################################################################\n",
    "    I = np.eye(d)\n",
    "    W = np.linalg.pinv(X_train.T@X_train + l*n*I) @ (X_train.T@y_train_oh)\n",
    "    ################################################################################\n",
    "    #                              END OF YOUR CODE                                #\n",
    "    ################################################################################\n",
    "    train_acc[i] = np.sum(np.argmin(np.abs(1 - X_train.dot(W)), axis=1) == y_train).astype(np.float32)/y_train.shape[0]*100\n",
    "    test_acc[i]  = np.sum(np.argmin(np.abs(1 - X_test.dot(W)), axis=1) == y_test).astype(np.float32)/y_test.shape[0]*100"
   ]
  },
  {
   "cell_type": "code",
   "execution_count": 10,
   "metadata": {
    "tags": []
   },
   "outputs": [
    {
     "data": {
      "image/png": "[encoded data removed]",
      "text/plain": [
       "<Figure size 720x576 with 1 Axes>"
      ]
     },
     "metadata": {
      "needs_background": "light"
     },
     "output_type": "display_data"
    }
   ],
   "source": [
    "plt.semilogx(lambdas, train_acc, 'r', label=\"Training accuracy\")\n",
    "plt.semilogx(lambdas, test_acc, 'g', label=\"Testing accuracy\")\n",
    "\n",
    "plt.legend()\n",
    "plt.grid(True)\n",
    "plt.show()"
   ]
  },
  {
   "cell_type": "markdown",
   "metadata": {},
   "source": [
    "**Question:** Try to explain why the performances on the training and test set have such behaviors as we change the value of $\\lambda$."
   ]
  },
  {
   "cell_type": "markdown",
   "metadata": {},
   "source": [
    "**Your answer:** lambda is the regularization term which penelizes the loss to prevent overfitting of the model. As lambda increases, the severity of the penalty increases, which minimizes the weights and thus reduces its impact on the resulting prediction. With a small lambda, the model's accuracy on the training set is much higher than the test set, which indicates overfitting. The model is unable to generalize well. As lambda increases, weights are penalized more and the model's ability to generalize improves. This is reflected by its accuracy on the test set increasing up until lambda 10^3. Naturally, it's accuracy on the training set reduces as a result. As lambda continues to increase, accuracy starts to drop, and at lambda values greater than 10^4, the model's accuracy drops drastically on both test and training sets, indicating underfitting."
   ]
  },
  {
   "cell_type": "markdown",
   "metadata": {},
   "source": [
    "## Softmax Classifier\n",
    "\n",
    "The predicted probability for the $j$-th class given a sample vector $x$ and a weight $W$ is:\n",
    "\n",
    "$$\\displaystyle{P(y=j\\mid x)=\\frac{e^{-xw_j}}{\\sum\\limits_{c=1}^{C}e^{-xw_c}}}$$ \n",
    "\n",
    "![softmax](imgs/softmax.png \"Example of Softmax\")\n",
    "\n",
    "Your code for this section will all be written inside **classifiers/softmax.py**. \n"
   ]
  },
  {
   "cell_type": "code",
   "execution_count": 11,
   "metadata": {
    "scrolled": true
   },
   "outputs": [
    {
     "name": "stdout",
     "output_type": "stream",
     "text": [
      "loss: 2.330179\n",
      "sanity check: 2.302585\n"
     ]
    }
   ],
   "source": [
    "# First implement the naive softmax loss function with nested loops.\n",
    "# Open the file classifiers/softmax.py and implement the\n",
    "# softmax_loss_naive function.\n",
    "\n",
    "from classifiers.softmax import softmax_loss_naive\n",
    "import time\n",
    "\n",
    "# Generate a random softmax weight matrix and use it to compute the loss.\n",
    "W = np.random.randn(3073, 10) * 0.0001\n",
    "loss, grad = softmax_loss_naive(W, X_dev, y_dev, 0.0)\n",
    "\n",
    "# As a rough sanity check, our loss should be something close to -log(0.1).\n",
    "print('loss: %f' % loss)\n",
    "print('sanity check: %f' % (-np.log(0.1)))"
   ]
  },
  {
   "cell_type": "markdown",
   "metadata": {},
   "source": [
    "**Question:** Why do we expect our loss to be close to -log(0.1)? Explain briefly.**"
   ]
  },
  {
   "cell_type": "markdown",
   "metadata": {},
   "source": [
    "**Your answer:** With softmax, the loss L is given by -log(y), where y is the value of the ground truth class. There are a total of 10 classes, so the probability of selecting each class is 0.1."
   ]
  },
  {
   "cell_type": "markdown",
   "metadata": {},
   "source": [
    "# Optimization\n",
    "\n",
    "\n",
    "## Random search"
   ]
  },
  {
   "cell_type": "code",
   "execution_count": 12,
   "metadata": {
    "tags": []
   },
   "outputs": [
    {
     "name": "stdout",
     "output_type": "stream",
     "text": [
      "in attempt 0 the loss was 2.357413, best 2.357413\n",
      "in attempt 1 the loss was 2.380332, best 2.357413\n",
      "in attempt 2 the loss was 2.275473, best 2.275473\n",
      "in attempt 3 the loss was 2.353213, best 2.275473\n",
      "in attempt 4 the loss was 2.348095, best 2.275473\n",
      "in attempt 5 the loss was 2.377672, best 2.275473\n",
      "in attempt 6 the loss was 2.397324, best 2.275473\n",
      "in attempt 7 the loss was 2.373354, best 2.275473\n",
      "in attempt 8 the loss was 2.358124, best 2.275473\n",
      "in attempt 9 the loss was 2.314809, best 2.275473\n",
      "in attempt 10 the loss was 2.352227, best 2.275473\n",
      "in attempt 11 the loss was 2.342869, best 2.275473\n",
      "in attempt 12 the loss was 2.330941, best 2.275473\n",
      "in attempt 13 the loss was 2.393276, best 2.275473\n",
      "in attempt 14 the loss was 2.337995, best 2.275473\n",
      "in attempt 15 the loss was 2.375833, best 2.275473\n",
      "in attempt 16 the loss was 2.293352, best 2.275473\n",
      "in attempt 17 the loss was 2.393434, best 2.275473\n",
      "in attempt 18 the loss was 2.438979, best 2.275473\n",
      "in attempt 19 the loss was 2.313737, best 2.275473\n",
      "in attempt 20 the loss was 2.277993, best 2.275473\n",
      "in attempt 21 the loss was 2.343855, best 2.275473\n",
      "in attempt 22 the loss was 2.370619, best 2.275473\n",
      "in attempt 23 the loss was 2.293410, best 2.275473\n",
      "in attempt 24 the loss was 2.389773, best 2.275473\n",
      "in attempt 25 the loss was 2.380196, best 2.275473\n",
      "in attempt 26 the loss was 2.336857, best 2.275473\n",
      "in attempt 27 the loss was 2.379301, best 2.275473\n",
      "in attempt 28 the loss was 2.326068, best 2.275473\n",
      "in attempt 29 the loss was 2.336887, best 2.275473\n",
      "in attempt 30 the loss was 2.356471, best 2.275473\n",
      "in attempt 31 the loss was 2.381588, best 2.275473\n",
      "in attempt 32 the loss was 2.317999, best 2.275473\n",
      "in attempt 33 the loss was 2.251251, best 2.251251\n",
      "in attempt 34 the loss was 2.349249, best 2.251251\n",
      "in attempt 35 the loss was 2.342549, best 2.251251\n",
      "in attempt 36 the loss was 2.413397, best 2.251251\n",
      "in attempt 37 the loss was 2.414012, best 2.251251\n",
      "in attempt 38 the loss was 2.328327, best 2.251251\n",
      "in attempt 39 the loss was 2.358146, best 2.251251\n",
      "in attempt 40 the loss was 2.380670, best 2.251251\n",
      "in attempt 41 the loss was 2.307097, best 2.251251\n",
      "in attempt 42 the loss was 2.382876, best 2.251251\n",
      "in attempt 43 the loss was 2.349031, best 2.251251\n",
      "in attempt 44 the loss was 2.325908, best 2.251251\n",
      "in attempt 45 the loss was 2.354556, best 2.251251\n",
      "in attempt 46 the loss was 2.321719, best 2.251251\n",
      "in attempt 47 the loss was 2.319159, best 2.251251\n",
      "in attempt 48 the loss was 2.325542, best 2.251251\n",
      "in attempt 49 the loss was 2.326440, best 2.251251\n",
      "in attempt 50 the loss was 2.391252, best 2.251251\n",
      "in attempt 51 the loss was 2.328212, best 2.251251\n",
      "in attempt 52 the loss was 2.338250, best 2.251251\n",
      "in attempt 53 the loss was 2.381104, best 2.251251\n",
      "in attempt 54 the loss was 2.388698, best 2.251251\n",
      "in attempt 55 the loss was 2.385392, best 2.251251\n",
      "in attempt 56 the loss was 2.313480, best 2.251251\n",
      "in attempt 57 the loss was 2.370526, best 2.251251\n",
      "in attempt 58 the loss was 2.344754, best 2.251251\n",
      "in attempt 59 the loss was 2.360365, best 2.251251\n",
      "in attempt 60 the loss was 2.371240, best 2.251251\n",
      "in attempt 61 the loss was 2.300207, best 2.251251\n",
      "in attempt 62 the loss was 2.396411, best 2.251251\n",
      "in attempt 63 the loss was 2.370014, best 2.251251\n",
      "in attempt 64 the loss was 2.443855, best 2.251251\n",
      "in attempt 65 the loss was 2.399383, best 2.251251\n",
      "in attempt 66 the loss was 2.325698, best 2.251251\n",
      "in attempt 67 the loss was 2.318606, best 2.251251\n",
      "in attempt 68 the loss was 2.420530, best 2.251251\n",
      "in attempt 69 the loss was 2.299537, best 2.251251\n",
      "in attempt 70 the loss was 2.363138, best 2.251251\n",
      "in attempt 71 the loss was 2.401939, best 2.251251\n",
      "in attempt 72 the loss was 2.354570, best 2.251251\n",
      "in attempt 73 the loss was 2.342980, best 2.251251\n",
      "in attempt 74 the loss was 2.294452, best 2.251251\n",
      "in attempt 75 the loss was 2.315455, best 2.251251\n",
      "in attempt 76 the loss was 2.312797, best 2.251251\n",
      "in attempt 77 the loss was 2.321406, best 2.251251\n",
      "in attempt 78 the loss was 2.366214, best 2.251251\n",
      "in attempt 79 the loss was 2.365569, best 2.251251\n",
      "in attempt 80 the loss was 2.406838, best 2.251251\n",
      "in attempt 81 the loss was 2.297389, best 2.251251\n",
      "in attempt 82 the loss was 2.359648, best 2.251251\n",
      "in attempt 83 the loss was 2.336580, best 2.251251\n",
      "in attempt 84 the loss was 2.434904, best 2.251251\n",
      "in attempt 85 the loss was 2.348922, best 2.251251\n",
      "in attempt 86 the loss was 2.352600, best 2.251251\n",
      "in attempt 87 the loss was 2.368519, best 2.251251\n",
      "in attempt 88 the loss was 2.317180, best 2.251251\n",
      "in attempt 89 the loss was 2.456310, best 2.251251\n",
      "in attempt 90 the loss was 2.288611, best 2.251251\n",
      "in attempt 91 the loss was 2.369752, best 2.251251\n",
      "in attempt 92 the loss was 2.373734, best 2.251251\n",
      "in attempt 93 the loss was 2.322322, best 2.251251\n",
      "in attempt 94 the loss was 2.338486, best 2.251251\n",
      "in attempt 95 the loss was 2.424597, best 2.251251\n",
      "in attempt 96 the loss was 2.412709, best 2.251251\n",
      "in attempt 97 the loss was 2.379169, best 2.251251\n",
      "in attempt 98 the loss was 2.334699, best 2.251251\n",
      "in attempt 99 the loss was 2.331128, best 2.251251\n"
     ]
    }
   ],
   "source": [
    "bestloss = float('inf')\n",
    "for num in range(100):\n",
    "    W = np.random.randn(3073, 10) * 0.0001\n",
    "    loss, _ = softmax_loss_naive(W, X_dev, y_dev, 0.0)\n",
    "    if (loss < bestloss):\n",
    "        bestloss = loss\n",
    "        bestW = W\n",
    "    print('in attempt %d the loss was %f, best %f' % (num, loss, bestloss))"
   ]
  },
  {
   "cell_type": "code",
   "execution_count": 13,
   "metadata": {
    "tags": []
   },
   "outputs": [
    {
     "name": "stdout",
     "output_type": "stream",
     "text": [
      "Accuracy on train set 0.140143\n",
      "Accuracy on test set 0.150000\n"
     ]
    }
   ],
   "source": [
    "# How bestW perform on trainset\n",
    "scores = X_train.dot(bestW)\n",
    "y_pred = np.argmax(scores, axis=1)\n",
    "print('Accuracy on train set %f' % np.mean(y_pred == y_train))\n",
    "\n",
    "# evaluate performance of test set\n",
    "scores = X_test.dot(bestW)\n",
    "y_pred = np.argmax(scores, axis=1)\n",
    "print('Accuracy on test set %f' % np.mean(y_pred == y_test))"
   ]
  },
  {
   "cell_type": "markdown",
   "metadata": {},
   "source": [
    "Compare the performance when using random search with *regression classifier* and *softmax classifier*. You can see how much useful the softmax classifier is."
   ]
  },
  {
   "cell_type": "markdown",
   "metadata": {},
   "source": [
    "## Stochastic Gradient descent\n",
    "Even though it is possible to achieve closed-form solution with softmax classifier, it would be more complicated. In fact, we could achieve very good results with gradient descent approach. Additionally, in case of very large dataset, it is impossible to load the whole dataset into the memory. Gradient descent can help to optimize the loss function in batch. \n",
    "\n",
    "$$\\mathbf{W}^{t+1}=\\mathbf{W}^{t}−\\alpha \\frac{\\partial\\mathcal{L(\\mathbf{x};\\mathbf{W}^{t})}}{\\partial\\mathbf{W}^{t}}$$\n",
    "\n",
    "Where $\\alpha$ is the learning rate, $\\mathcal{L}$ is a loss function, and $\\mathbf{x}$ is a batch of training dataset."
   ]
  },
  {
   "cell_type": "code",
   "execution_count": 14,
   "metadata": {
    "tags": []
   },
   "outputs": [
    {
     "name": "stdout",
     "output_type": "stream",
     "text": [
      "numerical: 3.813478 analytic: 3.813478, relative error: 1.535425e-08\n",
      "numerical: 0.636509 analytic: 0.636509, relative error: 1.190743e-08\n",
      "numerical: -1.123074 analytic: -1.123074, relative error: 1.544091e-08\n",
      "numerical: 0.561029 analytic: 0.561029, relative error: 4.479166e-08\n",
      "numerical: -0.596953 analytic: -0.596952, relative error: 5.070696e-08\n",
      "numerical: 3.160008 analytic: 3.160008, relative error: 9.269031e-09\n",
      "numerical: 0.290189 analytic: 0.290189, relative error: 2.079092e-07\n",
      "numerical: -4.099413 analytic: -4.099413, relative error: 8.062518e-09\n",
      "numerical: -1.016941 analytic: -1.016941, relative error: 1.006043e-08\n",
      "numerical: 2.467310 analytic: 2.467310, relative error: 6.359754e-09\n",
      "numerical: 1.359618 analytic: 1.359618, relative error: 4.466396e-09\n",
      "numerical: -1.557923 analytic: -1.557923, relative error: 3.988704e-08\n",
      "numerical: 1.528451 analytic: 1.528451, relative error: 6.655698e-09\n",
      "numerical: 0.206214 analytic: 0.206214, relative error: 9.971456e-08\n",
      "numerical: 1.259259 analytic: 1.259259, relative error: 1.362161e-08\n",
      "numerical: 1.885231 analytic: 1.885231, relative error: 2.537190e-08\n",
      "numerical: 2.606810 analytic: 2.606810, relative error: 2.431828e-08\n",
      "numerical: -3.628964 analytic: -3.628964, relative error: 1.301337e-08\n",
      "numerical: -0.732582 analytic: -0.732582, relative error: 5.477163e-08\n",
      "numerical: 1.402874 analytic: 1.402873, relative error: 2.005057e-08\n"
     ]
    }
   ],
   "source": [
    "# Complete the implementation of softmax_loss_naive and implement a (naive)\n",
    "# version of the gradient that uses nested loops.\n",
    "loss, grad = softmax_loss_naive(W, X_dev, y_dev, 0.0)\n",
    "\n",
    "# Use numeric gradient checking as a debugging tool.\n",
    "# The numeric gradient should be close to the analytic gradient.\n",
    "from gradient_check import grad_check_sparse\n",
    "f = lambda w: softmax_loss_naive(w, X_dev, y_dev, 0.0)[0]\n",
    "grad_numerical = grad_check_sparse(f, W, grad, 10)\n",
    "\n",
    "# gradient check with regularization\n",
    "loss, grad = softmax_loss_naive(W, X_dev, y_dev, 1e2)\n",
    "f = lambda w: softmax_loss_naive(w, X_dev, y_dev, 1e2)[0]\n",
    "grad_numerical = grad_check_sparse(f, W, grad, 10)"
   ]
  },
  {
   "cell_type": "code",
   "execution_count": 15,
   "metadata": {},
   "outputs": [
    {
     "name": "stdout",
     "output_type": "stream",
     "text": [
      "naive loss: 2.331128e+00 computed in 0.335564s\n",
      "vectorized loss: 2.331128e+00 computed in 0.000957s\n",
      "Loss difference: 0.000000\n",
      "Gradient difference: 0.000000\n"
     ]
    }
   ],
   "source": [
    "# Now that we have a naive implementation of the softmax loss function and its gradient,\n",
    "# implement a vectorized version in softmax_loss_vectorized.\n",
    "# The two versions should compute the same results, but the vectorized version should be\n",
    "# much faster.\n",
    "tic = time.time()\n",
    "loss_naive, grad_naive = softmax_loss_naive(W, X_dev, y_dev, 0.00001)\n",
    "toc = time.time()\n",
    "print('naive loss: %e computed in %fs' % (loss_naive, toc - tic))\n",
    "\n",
    "from classifiers.softmax import softmax_loss_vectorized\n",
    "tic = time.time()\n",
    "loss_vectorized, grad_vectorized = softmax_loss_vectorized(W, X_dev, y_dev, 0.00001)\n",
    "toc = time.time()\n",
    "print('vectorized loss: %e computed in %fs' % (loss_vectorized, toc - tic))\n",
    "\n",
    "# We use the Frobenius norm to compare the two versions\n",
    "# of the gradient.\n",
    "grad_difference = np.linalg.norm(grad_naive - grad_vectorized, ord='fro')\n",
    "print('Loss difference: %f' % np.abs(loss_naive - loss_vectorized))\n",
    "print('Gradient difference: %f' % grad_difference)"
   ]
  },
  {
   "cell_type": "code",
   "execution_count": 52,
   "metadata": {},
   "outputs": [
    {
     "name": "stdout",
     "output_type": "stream",
     "text": [
      "iteration 0 / 1500: loss 1535.466566\n",
      "iteration 100 / 1500: loss 206.463061\n",
      "iteration 200 / 1500: loss 29.438131\n",
      "iteration 300 / 1500: loss 5.841450\n",
      "iteration 400 / 1500: loss 2.666314\n",
      "iteration 500 / 1500: loss 2.186370\n",
      "iteration 600 / 1500: loss 2.185979\n",
      "iteration 700 / 1500: loss 2.158037\n",
      "iteration 800 / 1500: loss 2.149762\n",
      "iteration 900 / 1500: loss 2.136322\n",
      "iteration 1000 / 1500: loss 2.146395\n",
      "iteration 1100 / 1500: loss 2.168519\n",
      "iteration 1200 / 1500: loss 2.141638\n",
      "iteration 1300 / 1500: loss 2.104752\n",
      "iteration 1400 / 1500: loss 2.086893\n",
      "That took 3.310082s\n"
     ]
    }
   ],
   "source": [
    "from classifiers.linear_classifier import *\n",
    "\n",
    "classifier = Softmax()\n",
    "tic = time.time()\n",
    "loss_hist = classifier.train(X_train, y_train, learning_rate=1e-7, reg=5e4,\n",
    "                                  num_iters=1500, verbose=True)\n",
    "toc = time.time()\n",
    "print('That took %fs' % (toc - tic))"
   ]
  },
  {
   "cell_type": "code",
   "execution_count": 58,
   "metadata": {},
   "outputs": [
    {
     "name": "stdout",
     "output_type": "stream",
     "text": [
      "training accuracy: 0.305347\n",
      "validation accuracy: 0.327000\n"
     ]
    }
   ],
   "source": [
    "# Write the Softmax.predict function and evaluate the performance on both the\n",
    "# training and validation set\n",
    "y_train_pred = classifier.predict(X_train)\n",
    "print('training accuracy: %f' % (np.mean(y_train == y_train_pred), ))\n",
    "y_val_pred = classifier.predict(X_val)\n",
    "print('validation accuracy: %f' % (np.mean(y_val == y_val_pred), ))"
   ]
  },
  {
   "cell_type": "code",
   "execution_count": 59,
   "metadata": {},
   "outputs": [
    {
     "data": {
      "image/png": "[encoded data removed]",
      "text/plain": [
       "<Figure size 720x576 with 1 Axes>"
      ]
     },
     "metadata": {
      "needs_background": "light"
     },
     "output_type": "display_data"
    }
   ],
   "source": [
    "# A useful debugging strategy is to plot the loss as a function of\n",
    "# iteration number:\n",
    "plt.plot(loss_hist)\n",
    "plt.xlabel('Iteration number')\n",
    "plt.ylabel('Loss value')\n",
    "plt.show()"
   ]
  },
  {
   "cell_type": "code",
   "execution_count": 60,
   "metadata": {
    "tags": []
   },
   "outputs": [
    {
     "name": "stdout",
     "output_type": "stream",
     "text": [
      "softmax on raw pixels final test set accuracy: 31.70\n"
     ]
    }
   ],
   "source": [
    "# evaluate on test set\n",
    "# Evaluate the best softmax on test set\n",
    "y_test_pred = classifier.predict(X_test)\n",
    "test_accuracy = np.mean(y_test == y_test_pred)\n",
    "print('softmax on raw pixels final test set accuracy: %.2f' % (100*test_accuracy, ))"
   ]
  },
  {
   "cell_type": "code",
   "execution_count": null,
   "metadata": {},
   "outputs": [],
   "source": []
  }
 ],
 "metadata": {
  "anaconda-cloud": {},
  "kernelspec": {
   "display_name": "cv",
   "language": "python",
   "name": "cv"
  },
  "language_info": {
   "codemirror_mode": {
    "name": "ipython",
    "version": 3
   },
   "file_extension": ".py",
   "mimetype": "text/x-python",
   "name": "python",
   "nbconvert_exporter": "python",
   "pygments_lexer": "ipython3",
   "version": "3.9.7"
  }
 },
 "nbformat": 4,
 "nbformat_minor": 4
}
